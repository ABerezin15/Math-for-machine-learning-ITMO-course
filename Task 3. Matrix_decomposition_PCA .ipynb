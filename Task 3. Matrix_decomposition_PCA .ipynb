{
 "cells": [
  {
   "cell_type": "markdown",
   "metadata": {
    "id": "j5eO1wGHUnpU"
   },
   "source": [
    "# Лабораторная работа № 3. Алгоритмы разложения матриц. PCA."
   ]
  },
  {
   "cell_type": "code",
   "execution_count": null,
   "metadata": {
    "id": "EAxK1510neIk"
   },
   "outputs": [],
   "source": [
    "import pandas as pd\n",
    "import numpy as np\n",
    "from numpy import array, identity, diagonal\n",
    "from math import sqrt\n",
    "import matplotlib.pyplot as plt\n",
    "from matplotlib.pyplot import figure\n",
    "import seaborn as sns"
   ]
  },
  {
   "cell_type": "markdown",
   "metadata": {
    "id": "2wtigIaGctV6"
   },
   "source": [
    "Задание 1. Реализуйте сингулярное матричные разложения (не используя готовые решения вроде numpy.linalg.svd, или numpy.linalg.eig для поиска собственных векторов и чисел)."
   ]
  },
  {
   "cell_type": "markdown",
   "metadata": {
    "id": "oQE8v5q7VU3F"
   },
   "source": [
    "### Метод Якоби для собственных чисел и векторов"
   ]
  },
  {
   "cell_type": "code",
   "execution_count": null,
   "metadata": {
    "id": "R30ZjC0O3sZm"
   },
   "outputs": [],
   "source": [
    "def jacobi(a,tol = 1.0e-9): \n",
    "\n",
    "    def maxElem(a): \n",
    "        n = len(a)\n",
    "        aMax = 0.0\n",
    "        for i in range(n-1):\n",
    "            for j in range(i+1,n):\n",
    "                if abs(a[i,j]) >= aMax:\n",
    "                    aMax = abs(a[i,j])\n",
    "                    k = i; l = j\n",
    "        return aMax,k,l\n",
    "\n",
    "    def rotate(a,p,k,l):\n",
    "        n = len(a)\n",
    "        aDiff = a[l,l] - a[k,k]\n",
    "        if abs(a[k,l]) < abs(aDiff)*1.0e-36: t = a[k,l]/aDiff\n",
    "        else:\n",
    "            phi = aDiff/(2.0*a[k,l])\n",
    "            t = 1.0/(abs(phi) + sqrt(phi**2 + 1.0))\n",
    "            if phi < 0.0: t = -t\n",
    "        c = 1.0/sqrt(t**2 + 1.0); s = t*c\n",
    "        tau = s/(1.0 + c)\n",
    "        temp = a[k,l]\n",
    "        a[k,l] = 0.0\n",
    "        a[k,k] = a[k,k] - t*temp\n",
    "        a[l,l] = a[l,l] + t*temp\n",
    "        for i in range(k):      \n",
    "            temp = a[i,k]\n",
    "            a[i,k] = temp - s*(a[i,l] + tau*temp)\n",
    "            a[i,l] = a[i,l] + s*(temp - tau*a[i,l])\n",
    "        for i in range(k+1,l):  \n",
    "            temp = a[k,i]\n",
    "            a[k,i] = temp - s*(a[i,l] + tau*a[k,i])\n",
    "            a[i,l] = a[i,l] + s*(temp - tau*a[i,l])\n",
    "        for i in range(l+1,n):  \n",
    "            temp = a[k,i]\n",
    "            a[k,i] = temp - s*(a[l,i] + tau*temp)\n",
    "            a[l,i] = a[l,i] + s*(temp - tau*a[l,i])\n",
    "        for i in range(n):      \n",
    "            temp = p[i,k]\n",
    "            p[i,k] = temp - s*(p[i,l] + tau*p[i,k])\n",
    "            p[i,l] = p[i,l] + s*(temp - tau*p[i,l])\n",
    "        \n",
    "    n = len(a)\n",
    "    maxRot = 5*(n**2)      \n",
    "    p = identity(n)*1.0    \n",
    "    for i in range(maxRot): \n",
    "        aMax,k,l = maxElem(a)\n",
    "        if aMax < tol: return diagonal(a),p\n",
    "        rotate(a,p,k,l)\n",
    "    print('Метод Якоби не сходится')\n"
   ]
  },
  {
   "cell_type": "markdown",
   "metadata": {
    "id": "ZmF_rsmmH5TX"
   },
   "source": [
    "### Алгоритм SVD"
   ]
  },
  {
   "cell_type": "code",
   "execution_count": null,
   "metadata": {
    "id": "L7Bu3ByiLqga"
   },
   "outputs": [],
   "source": [
    "def svd(data):\n",
    "  X = data.to_numpy()\n",
    "  XT = X.transpose()\n",
    "  XXT = X.dot(XT)\n",
    "  eigenvalues, U = jacobi(XXT)\n",
    "\n",
    "  XTX = XT.dot(X)\n",
    "  eigenvalues_xtx, VT = jacobi(XTX)\n",
    "\n",
    "  sigmas = np.array([abs(i)**0.5 for i in eigenvalues_xtx])\n",
    "\n",
    "  return U, sigmas, VT.transpose()"
   ]
  },
  {
   "cell_type": "code",
   "execution_count": null,
   "metadata": {
    "id": "BBCpuDPEVt-p"
   },
   "outputs": [],
   "source": [
    "def explained_variance(eigenvalues):\n",
    "\n",
    "  explained_variance = []\n",
    "\n",
    "  for eigenvalue in eigenvalues:\n",
    "    explained_variance.append(eigenvalue/sum(eigenvalues))\n",
    "\n",
    "  return explained_variance"
   ]
  },
  {
   "cell_type": "markdown",
   "metadata": {
    "id": "uAIcRLVRdTPZ"
   },
   "source": [
    "Задание 2. Выберите произвольный многомерный массив данных, содержащий минимум 5 признаков."
   ]
  },
  {
   "cell_type": "markdown",
   "metadata": {
    "id": "gz4fERVG2ZgF"
   },
   "source": [
    "71_36.csv - набор синтетических данных, 60 объектов с 10ю признаками"
   ]
  },
  {
   "cell_type": "code",
   "execution_count": null,
   "metadata": {
    "id": "30lQ3u_xDQ2R"
   },
   "outputs": [],
   "source": [
    "data = pd.read_csv('drive/MyDrive/71_36.csv', header = None) "
   ]
  },
  {
   "cell_type": "code",
   "execution_count": null,
   "metadata": {
    "colab": {
     "base_uri": "https://localhost:8080/",
     "height": 363
    },
    "id": "OCZtk32-XTVG",
    "outputId": "6de0bb8d-8c8b-4284-b02e-cfdbc3b94ccb"
   },
   "outputs": [
    {
     "data": {
      "text/html": [
       "\n",
       "  <div id=\"df-f9f81047-9afd-4504-892b-88e45b976f0b\">\n",
       "    <div class=\"colab-df-container\">\n",
       "      <div>\n",
       "<style scoped>\n",
       "    .dataframe tbody tr th:only-of-type {\n",
       "        vertical-align: middle;\n",
       "    }\n",
       "\n",
       "    .dataframe tbody tr th {\n",
       "        vertical-align: top;\n",
       "    }\n",
       "\n",
       "    .dataframe thead th {\n",
       "        text-align: right;\n",
       "    }\n",
       "</style>\n",
       "<table border=\"1\" class=\"dataframe\">\n",
       "  <thead>\n",
       "    <tr style=\"text-align: right;\">\n",
       "      <th></th>\n",
       "      <th>0</th>\n",
       "      <th>1</th>\n",
       "      <th>2</th>\n",
       "      <th>3</th>\n",
       "      <th>4</th>\n",
       "      <th>5</th>\n",
       "      <th>6</th>\n",
       "      <th>7</th>\n",
       "      <th>8</th>\n",
       "      <th>9</th>\n",
       "    </tr>\n",
       "  </thead>\n",
       "  <tbody>\n",
       "    <tr>\n",
       "      <th>0</th>\n",
       "      <td>-10.440728</td>\n",
       "      <td>9.220097</td>\n",
       "      <td>-20.707729</td>\n",
       "      <td>6.607158</td>\n",
       "      <td>-19.529615</td>\n",
       "      <td>21.251484</td>\n",
       "      <td>-12.956049</td>\n",
       "      <td>20.434342</td>\n",
       "      <td>12.687891</td>\n",
       "      <td>-1.439507</td>\n",
       "    </tr>\n",
       "    <tr>\n",
       "      <th>1</th>\n",
       "      <td>12.155823</td>\n",
       "      <td>8.858985</td>\n",
       "      <td>-17.071138</td>\n",
       "      <td>-23.823867</td>\n",
       "      <td>19.192672</td>\n",
       "      <td>3.017127</td>\n",
       "      <td>-17.780054</td>\n",
       "      <td>4.750363</td>\n",
       "      <td>-12.049571</td>\n",
       "      <td>27.656253</td>\n",
       "    </tr>\n",
       "    <tr>\n",
       "      <th>2</th>\n",
       "      <td>-8.579324</td>\n",
       "      <td>10.500568</td>\n",
       "      <td>-17.501436</td>\n",
       "      <td>5.760518</td>\n",
       "      <td>-20.956348</td>\n",
       "      <td>20.403692</td>\n",
       "      <td>-14.099575</td>\n",
       "      <td>23.691759</td>\n",
       "      <td>13.266730</td>\n",
       "      <td>-4.389464</td>\n",
       "    </tr>\n",
       "    <tr>\n",
       "      <th>3</th>\n",
       "      <td>-15.446555</td>\n",
       "      <td>-4.035479</td>\n",
       "      <td>15.207785</td>\n",
       "      <td>-13.285472</td>\n",
       "      <td>24.687674</td>\n",
       "      <td>10.801007</td>\n",
       "      <td>9.490218</td>\n",
       "      <td>23.362035</td>\n",
       "      <td>18.498444</td>\n",
       "      <td>-11.775716</td>\n",
       "    </tr>\n",
       "    <tr>\n",
       "      <th>4</th>\n",
       "      <td>-18.740831</td>\n",
       "      <td>-6.687865</td>\n",
       "      <td>14.312007</td>\n",
       "      <td>-15.941405</td>\n",
       "      <td>20.368070</td>\n",
       "      <td>16.717548</td>\n",
       "      <td>11.622035</td>\n",
       "      <td>23.113337</td>\n",
       "      <td>16.466612</td>\n",
       "      <td>-13.347755</td>\n",
       "    </tr>\n",
       "    <tr>\n",
       "      <th>5</th>\n",
       "      <td>-12.855656</td>\n",
       "      <td>-5.753353</td>\n",
       "      <td>2.410525</td>\n",
       "      <td>-9.730559</td>\n",
       "      <td>16.719181</td>\n",
       "      <td>19.687078</td>\n",
       "      <td>-22.542732</td>\n",
       "      <td>-7.995538</td>\n",
       "      <td>-4.526992</td>\n",
       "      <td>6.564124</td>\n",
       "    </tr>\n",
       "    <tr>\n",
       "      <th>6</th>\n",
       "      <td>-9.009127</td>\n",
       "      <td>9.642805</td>\n",
       "      <td>-17.002588</td>\n",
       "      <td>6.935935</td>\n",
       "      <td>-18.422287</td>\n",
       "      <td>21.500128</td>\n",
       "      <td>-13.470410</td>\n",
       "      <td>25.547230</td>\n",
       "      <td>14.490897</td>\n",
       "      <td>-3.810050</td>\n",
       "    </tr>\n",
       "    <tr>\n",
       "      <th>7</th>\n",
       "      <td>-17.856777</td>\n",
       "      <td>-11.955599</td>\n",
       "      <td>19.404304</td>\n",
       "      <td>-11.891756</td>\n",
       "      <td>21.273528</td>\n",
       "      <td>-10.668466</td>\n",
       "      <td>-12.805453</td>\n",
       "      <td>-16.549398</td>\n",
       "      <td>-17.655751</td>\n",
       "      <td>2.231707</td>\n",
       "    </tr>\n",
       "    <tr>\n",
       "      <th>8</th>\n",
       "      <td>-6.553725</td>\n",
       "      <td>8.742231</td>\n",
       "      <td>-19.248883</td>\n",
       "      <td>4.152296</td>\n",
       "      <td>-17.522486</td>\n",
       "      <td>20.135562</td>\n",
       "      <td>-9.027608</td>\n",
       "      <td>21.162583</td>\n",
       "      <td>12.241814</td>\n",
       "      <td>-3.317396</td>\n",
       "    </tr>\n",
       "    <tr>\n",
       "      <th>9</th>\n",
       "      <td>-15.720744</td>\n",
       "      <td>-5.529684</td>\n",
       "      <td>18.644411</td>\n",
       "      <td>-15.417111</td>\n",
       "      <td>22.741212</td>\n",
       "      <td>12.109447</td>\n",
       "      <td>12.064258</td>\n",
       "      <td>24.749182</td>\n",
       "      <td>17.363932</td>\n",
       "      <td>-13.869324</td>\n",
       "    </tr>\n",
       "  </tbody>\n",
       "</table>\n",
       "</div>\n",
       "      <button class=\"colab-df-convert\" onclick=\"convertToInteractive('df-f9f81047-9afd-4504-892b-88e45b976f0b')\"\n",
       "              title=\"Convert this dataframe to an interactive table.\"\n",
       "              style=\"display:none;\">\n",
       "        \n",
       "  <svg xmlns=\"http://www.w3.org/2000/svg\" height=\"24px\"viewBox=\"0 0 24 24\"\n",
       "       width=\"24px\">\n",
       "    <path d=\"M0 0h24v24H0V0z\" fill=\"none\"/>\n",
       "    <path d=\"M18.56 5.44l.94 2.06.94-2.06 2.06-.94-2.06-.94-.94-2.06-.94 2.06-2.06.94zm-11 1L8.5 8.5l.94-2.06 2.06-.94-2.06-.94L8.5 2.5l-.94 2.06-2.06.94zm10 10l.94 2.06.94-2.06 2.06-.94-2.06-.94-.94-2.06-.94 2.06-2.06.94z\"/><path d=\"M17.41 7.96l-1.37-1.37c-.4-.4-.92-.59-1.43-.59-.52 0-1.04.2-1.43.59L10.3 9.45l-7.72 7.72c-.78.78-.78 2.05 0 2.83L4 21.41c.39.39.9.59 1.41.59.51 0 1.02-.2 1.41-.59l7.78-7.78 2.81-2.81c.8-.78.8-2.07 0-2.86zM5.41 20L4 18.59l7.72-7.72 1.47 1.35L5.41 20z\"/>\n",
       "  </svg>\n",
       "      </button>\n",
       "      \n",
       "  <style>\n",
       "    .colab-df-container {\n",
       "      display:flex;\n",
       "      flex-wrap:wrap;\n",
       "      gap: 12px;\n",
       "    }\n",
       "\n",
       "    .colab-df-convert {\n",
       "      background-color: #E8F0FE;\n",
       "      border: none;\n",
       "      border-radius: 50%;\n",
       "      cursor: pointer;\n",
       "      display: none;\n",
       "      fill: #1967D2;\n",
       "      height: 32px;\n",
       "      padding: 0 0 0 0;\n",
       "      width: 32px;\n",
       "    }\n",
       "\n",
       "    .colab-df-convert:hover {\n",
       "      background-color: #E2EBFA;\n",
       "      box-shadow: 0px 1px 2px rgba(60, 64, 67, 0.3), 0px 1px 3px 1px rgba(60, 64, 67, 0.15);\n",
       "      fill: #174EA6;\n",
       "    }\n",
       "\n",
       "    [theme=dark] .colab-df-convert {\n",
       "      background-color: #3B4455;\n",
       "      fill: #D2E3FC;\n",
       "    }\n",
       "\n",
       "    [theme=dark] .colab-df-convert:hover {\n",
       "      background-color: #434B5C;\n",
       "      box-shadow: 0px 1px 3px 1px rgba(0, 0, 0, 0.15);\n",
       "      filter: drop-shadow(0px 1px 2px rgba(0, 0, 0, 0.3));\n",
       "      fill: #FFFFFF;\n",
       "    }\n",
       "  </style>\n",
       "\n",
       "      <script>\n",
       "        const buttonEl =\n",
       "          document.querySelector('#df-f9f81047-9afd-4504-892b-88e45b976f0b button.colab-df-convert');\n",
       "        buttonEl.style.display =\n",
       "          google.colab.kernel.accessAllowed ? 'block' : 'none';\n",
       "\n",
       "        async function convertToInteractive(key) {\n",
       "          const element = document.querySelector('#df-f9f81047-9afd-4504-892b-88e45b976f0b');\n",
       "          const dataTable =\n",
       "            await google.colab.kernel.invokeFunction('convertToInteractive',\n",
       "                                                     [key], {});\n",
       "          if (!dataTable) return;\n",
       "\n",
       "          const docLinkHtml = 'Like what you see? Visit the ' +\n",
       "            '<a target=\"_blank\" href=https://colab.research.google.com/notebooks/data_table.ipynb>data table notebook</a>'\n",
       "            + ' to learn more about interactive tables.';\n",
       "          element.innerHTML = '';\n",
       "          dataTable['output_type'] = 'display_data';\n",
       "          await google.colab.output.renderOutput(dataTable, element);\n",
       "          const docLink = document.createElement('div');\n",
       "          docLink.innerHTML = docLinkHtml;\n",
       "          element.appendChild(docLink);\n",
       "        }\n",
       "      </script>\n",
       "    </div>\n",
       "  </div>\n",
       "  "
      ],
      "text/plain": [
       "           0          1          2          3          4          5  \\\n",
       "0 -10.440728   9.220097 -20.707729   6.607158 -19.529615  21.251484   \n",
       "1  12.155823   8.858985 -17.071138 -23.823867  19.192672   3.017127   \n",
       "2  -8.579324  10.500568 -17.501436   5.760518 -20.956348  20.403692   \n",
       "3 -15.446555  -4.035479  15.207785 -13.285472  24.687674  10.801007   \n",
       "4 -18.740831  -6.687865  14.312007 -15.941405  20.368070  16.717548   \n",
       "5 -12.855656  -5.753353   2.410525  -9.730559  16.719181  19.687078   \n",
       "6  -9.009127   9.642805 -17.002588   6.935935 -18.422287  21.500128   \n",
       "7 -17.856777 -11.955599  19.404304 -11.891756  21.273528 -10.668466   \n",
       "8  -6.553725   8.742231 -19.248883   4.152296 -17.522486  20.135562   \n",
       "9 -15.720744  -5.529684  18.644411 -15.417111  22.741212  12.109447   \n",
       "\n",
       "           6          7          8          9  \n",
       "0 -12.956049  20.434342  12.687891  -1.439507  \n",
       "1 -17.780054   4.750363 -12.049571  27.656253  \n",
       "2 -14.099575  23.691759  13.266730  -4.389464  \n",
       "3   9.490218  23.362035  18.498444 -11.775716  \n",
       "4  11.622035  23.113337  16.466612 -13.347755  \n",
       "5 -22.542732  -7.995538  -4.526992   6.564124  \n",
       "6 -13.470410  25.547230  14.490897  -3.810050  \n",
       "7 -12.805453 -16.549398 -17.655751   2.231707  \n",
       "8  -9.027608  21.162583  12.241814  -3.317396  \n",
       "9  12.064258  24.749182  17.363932 -13.869324  "
      ]
     },
     "execution_count": 6,
     "metadata": {},
     "output_type": "execute_result"
    }
   ],
   "source": [
    "data.head(10)"
   ]
  },
  {
   "cell_type": "code",
   "execution_count": null,
   "metadata": {
    "colab": {
     "base_uri": "https://localhost:8080/"
    },
    "id": "9uzNO4LOfpAQ",
    "outputId": "693539d5-0eb0-432a-bfbc-f2e4a0e9f0c7"
   },
   "outputs": [
    {
     "data": {
      "text/plain": [
       "(60, 10)"
      ]
     },
     "execution_count": 7,
     "metadata": {},
     "output_type": "execute_result"
    }
   ],
   "source": [
    "data.shape"
   ]
  },
  {
   "cell_type": "code",
   "execution_count": null,
   "metadata": {
    "colab": {
     "base_uri": "https://localhost:8080/",
     "height": 614
    },
    "id": "j5gYysmscj1t",
    "outputId": "0a281be9-b8c5-4f97-a785-9a43b037b8a1"
   },
   "outputs": [
    {
     "data": {
      "text/plain": [
       "<matplotlib.axes._subplots.AxesSubplot at 0x7f7657f9d290>"
      ]
     },
     "execution_count": 8,
     "metadata": {},
     "output_type": "execute_result"
    },
    {
     "data": {
      "image/png": "[encoded data removed]",
      "text/plain": [
       "<Figure size 720x720 with 2 Axes>"
      ]
     },
     "metadata": {
      "needs_background": "light"
     },
     "output_type": "display_data"
    }
   ],
   "source": [
    "figure, ax = plt.subplots(1, 1, figsize=(10, 10))\n",
    "sns.heatmap(data.corr(), annot = True)"
   ]
  },
  {
   "cell_type": "markdown",
   "metadata": {
    "id": "Li2wsQ76djAh"
   },
   "source": [
    "Задание 3. Используйте написанный метод сингулярного разложения для получения матрицы преобразований данных к главным компонентам и значения объясняемых\n",
    "дисперсий. Опишите ограничения применимости реализаций SVD к решению\n",
    "данной задачи."
   ]
  },
  {
   "cell_type": "code",
   "execution_count": null,
   "metadata": {
    "id": "z_K37NaKXgoo"
   },
   "outputs": [],
   "source": [
    "u, s, v = svd(data)"
   ]
  },
  {
   "cell_type": "code",
   "execution_count": null,
   "metadata": {
    "colab": {
     "base_uri": "https://localhost:8080/"
    },
    "id": "Nz1uqu3uXlrb",
    "outputId": "7bcaf028-6059-49a6-f33d-c63d222024e6"
   },
   "outputs": [
    {
     "name": "stdout",
     "output_type": "stream",
     "text": [
      "u.shape:(60, 60),s.shape:(10,),v.shape:(10, 10)\n"
     ]
    }
   ],
   "source": [
    "print(f'u.shape:{u.shape},s.shape:{s.shape},v.shape:{v.shape}')"
   ]
  },
  {
   "cell_type": "code",
   "execution_count": null,
   "metadata": {
    "colab": {
     "base_uri": "https://localhost:8080/"
    },
    "id": "OTU9GyjPaCnj",
    "outputId": "49363d68-fb59-4224-976c-f0a60f0be575"
   },
   "outputs": [
    {
     "data": {
      "text/plain": [
       "array([[ 8.76084681e-01, -1.13042459e-02,  2.01964251e-03, ...,\n",
       "        -1.44934019e-02, -2.04606667e-01,  4.54989922e-03],\n",
       "       [-4.12428771e-02,  7.27826970e-01, -1.91011957e-02, ...,\n",
       "        -2.20060961e-02,  7.23385834e-02, -7.27467442e-02],\n",
       "       [-8.33311398e-02,  6.23715261e-03,  8.42414503e-01, ...,\n",
       "         1.42987224e-03, -2.01017892e-01, -3.37657188e-02],\n",
       "       ...,\n",
       "       [ 2.26601831e-02,  1.48621670e-01,  4.29573295e-04, ...,\n",
       "         6.65894120e-01,  1.97408465e-01,  4.44203231e-02],\n",
       "       [ 1.16206025e-02, -1.50433836e-01, -3.08445249e-02, ...,\n",
       "        -2.29862813e-01,  2.20994858e-01, -9.43169880e-02],\n",
       "       [-6.01679418e-02, -4.30710223e-02, -9.76399702e-03, ...,\n",
       "        -6.18986684e-02, -1.02584137e-01,  7.49315025e-01]])"
      ]
     },
     "execution_count": 29,
     "metadata": {},
     "output_type": "execute_result"
    }
   ],
   "source": [
    "u"
   ]
  },
  {
   "cell_type": "code",
   "execution_count": null,
   "metadata": {
    "colab": {
     "base_uri": "https://localhost:8080/"
    },
    "id": "TYos3ysdaCsx",
    "outputId": "25f753a7-d611-4060-b663-616cdb1cd0d4"
   },
   "outputs": [
    {
     "data": {
      "text/plain": [
       "array([ 11.67067082,   9.15564907, 179.49971552,  83.25071942,\n",
       "       212.14020591,  47.82784665, 120.71890569, 170.75587254,\n",
       "        12.40150701,  11.0829225 ])"
      ]
     },
     "execution_count": 30,
     "metadata": {},
     "output_type": "execute_result"
    }
   ],
   "source": [
    "s"
   ]
  },
  {
   "cell_type": "code",
   "execution_count": null,
   "metadata": {
    "colab": {
     "base_uri": "https://localhost:8080/"
    },
    "id": "kCI64nyeaCxp",
    "outputId": "a836b6ed-ade1-4992-b107-20ae0bb84e53"
   },
   "outputs": [
    {
     "data": {
      "text/plain": [
       "array([[ 0.36275088, -0.19065207,  0.53167017,  0.06014635, -0.17234343,\n",
       "        -0.17261219, -0.51029613,  0.22060459,  0.3566239 ,  0.22366598],\n",
       "       [-0.24123015,  0.70795272,  0.36378133, -0.12777065, -0.13746775,\n",
       "         0.06625248,  0.12870584, -0.30538289,  0.24424692,  0.31493099],\n",
       "       [-0.2629237 , -0.32640234,  0.56304282,  0.17423378, -0.13371139,\n",
       "        -0.25571872,  0.47980496, -0.11432886,  0.0352642 , -0.38621207],\n",
       "       [-0.06646761,  0.07320015,  0.00524965,  0.66486932,  0.28325634,\n",
       "         0.23350724, -0.36141246, -0.43184905,  0.15519101, -0.26867901],\n",
       "       [-0.20632855, -0.22519027,  0.3041087 , -0.39129681,  0.52063573,\n",
       "        -0.08323019, -0.28099916, -0.33225857, -0.39932016,  0.18525893],\n",
       "       [ 0.41748361, -0.29481465,  0.15920105, -0.03729948, -0.05190534,\n",
       "         0.68829955,  0.33459822, -0.2617306 , -0.01166837,  0.23454226],\n",
       "       [ 0.51476748,  0.20077353,  0.01198728,  0.027732  ,  0.63057929,\n",
       "        -0.34049889,  0.36182984,  0.01467861,  0.22084744, -0.01766502],\n",
       "       [-0.33199099, -0.00486043,  0.14427825, -0.21867226,  0.38487731,\n",
       "         0.46562375, -0.01058533,  0.50783179,  0.38216343, -0.22832981],\n",
       "       [-0.03532614, -0.26452706, -0.30750831, -0.43217633, -0.10048574,\n",
       "        -0.12892862, -0.06748864, -0.46515262,  0.61013184, -0.1659435 ],\n",
       "       [-0.37862574, -0.32034894, -0.18600229,  0.34319237,  0.15386222,\n",
       "        -0.12588428,  0.18893601,  0.07166586,  0.24730333,  0.67832815]])"
      ]
     },
     "execution_count": 31,
     "metadata": {},
     "output_type": "execute_result"
    }
   ],
   "source": [
    "v"
   ]
  },
  {
   "cell_type": "markdown",
   "metadata": {
    "id": "nwe46E2_XFwT"
   },
   "source": [
    "Далее возьмем два собственных вектора соответствующие двум наибольшим сингулярным числам и построим матрицу проекции W для получения нового подпространства."
   ]
  },
  {
   "cell_type": "code",
   "execution_count": null,
   "metadata": {
    "id": "Jm8EaQz_Ucbx"
   },
   "outputs": [],
   "source": [
    "w = np.hstack((v[4][:, np.newaxis], v[2][:, np.newaxis]))"
   ]
  },
  {
   "cell_type": "code",
   "execution_count": null,
   "metadata": {
    "colab": {
     "base_uri": "https://localhost:8080/"
    },
    "id": "CxdpY740U3ej",
    "outputId": "098640f3-509d-40d0-b3ef-10f034d5fd7f"
   },
   "outputs": [
    {
     "data": {
      "text/plain": [
       "array([[-0.20632855, -0.2629237 ],\n",
       "       [-0.22519027, -0.32640234],\n",
       "       [ 0.3041087 ,  0.56304282],\n",
       "       [-0.39129681,  0.17423378],\n",
       "       [ 0.52063573, -0.13371139],\n",
       "       [-0.08323019, -0.25571872],\n",
       "       [-0.28099916,  0.47980496],\n",
       "       [-0.33225857, -0.11432886],\n",
       "       [-0.39932016,  0.0352642 ],\n",
       "       [ 0.18525893, -0.38621207]])"
      ]
     },
     "execution_count": 35,
     "metadata": {},
     "output_type": "execute_result"
    }
   ],
   "source": [
    "w"
   ]
  },
  {
   "cell_type": "markdown",
   "metadata": {
    "id": "HcjBvAqGYHGH"
   },
   "source": [
    "При помощи матрицы W трансформируем исодный набор данных."
   ]
  },
  {
   "cell_type": "code",
   "execution_count": null,
   "metadata": {
    "id": "oryzQCvCVUyu"
   },
   "outputs": [],
   "source": [
    "new_dim = data.dot(w).rename(columns={0:'pc_1', 1:'pc_2'})"
   ]
  },
  {
   "cell_type": "code",
   "execution_count": null,
   "metadata": {
    "colab": {
     "base_uri": "https://localhost:8080/",
     "height": 206
    },
    "id": "C50NUFR7VrUx",
    "outputId": "d8053074-16c6-4c33-e93e-3ff578b43aa8"
   },
   "outputs": [
    {
     "data": {
      "text/html": [
       "\n",
       "  <div id=\"df-f1edf533-3198-4520-963f-37172d457ed1\">\n",
       "    <div class=\"colab-df-container\">\n",
       "      <div>\n",
       "<style scoped>\n",
       "    .dataframe tbody tr th:only-of-type {\n",
       "        vertical-align: middle;\n",
       "    }\n",
       "\n",
       "    .dataframe tbody tr th {\n",
       "        vertical-align: top;\n",
       "    }\n",
       "\n",
       "    .dataframe thead th {\n",
       "        text-align: right;\n",
       "    }\n",
       "</style>\n",
       "<table border=\"1\" class=\"dataframe\">\n",
       "  <thead>\n",
       "    <tr style=\"text-align: right;\">\n",
       "      <th></th>\n",
       "      <th>pc_1</th>\n",
       "      <th>pc_2</th>\n",
       "    </tr>\n",
       "  </thead>\n",
       "  <tbody>\n",
       "    <tr>\n",
       "      <th>0</th>\n",
       "      <td>-29.223455</td>\n",
       "      <td>-21.144792</td>\n",
       "    </tr>\n",
       "    <tr>\n",
       "      <th>1</th>\n",
       "      <td>22.721981</td>\n",
       "      <td>-43.368325</td>\n",
       "    </tr>\n",
       "    <tr>\n",
       "      <th>2</th>\n",
       "      <td>-30.800386</td>\n",
       "      <td>-19.748180</td>\n",
       "    </tr>\n",
       "    <tr>\n",
       "      <th>3</th>\n",
       "      <td>5.876176</td>\n",
       "      <td>12.646024</td>\n",
       "    </tr>\n",
       "    <tr>\n",
       "      <th>4</th>\n",
       "      <td>5.182351</td>\n",
       "      <td>14.062187</td>\n",
       "    </tr>\n",
       "  </tbody>\n",
       "</table>\n",
       "</div>\n",
       "      <button class=\"colab-df-convert\" onclick=\"convertToInteractive('df-f1edf533-3198-4520-963f-37172d457ed1')\"\n",
       "              title=\"Convert this dataframe to an interactive table.\"\n",
       "              style=\"display:none;\">\n",
       "        \n",
       "  <svg xmlns=\"http://www.w3.org/2000/svg\" height=\"24px\"viewBox=\"0 0 24 24\"\n",
       "       width=\"24px\">\n",
       "    <path d=\"M0 0h24v24H0V0z\" fill=\"none\"/>\n",
       "    <path d=\"M18.56 5.44l.94 2.06.94-2.06 2.06-.94-2.06-.94-.94-2.06-.94 2.06-2.06.94zm-11 1L8.5 8.5l.94-2.06 2.06-.94-2.06-.94L8.5 2.5l-.94 2.06-2.06.94zm10 10l.94 2.06.94-2.06 2.06-.94-2.06-.94-.94-2.06-.94 2.06-2.06.94z\"/><path d=\"M17.41 7.96l-1.37-1.37c-.4-.4-.92-.59-1.43-.59-.52 0-1.04.2-1.43.59L10.3 9.45l-7.72 7.72c-.78.78-.78 2.05 0 2.83L4 21.41c.39.39.9.59 1.41.59.51 0 1.02-.2 1.41-.59l7.78-7.78 2.81-2.81c.8-.78.8-2.07 0-2.86zM5.41 20L4 18.59l7.72-7.72 1.47 1.35L5.41 20z\"/>\n",
       "  </svg>\n",
       "      </button>\n",
       "      \n",
       "  <style>\n",
       "    .colab-df-container {\n",
       "      display:flex;\n",
       "      flex-wrap:wrap;\n",
       "      gap: 12px;\n",
       "    }\n",
       "\n",
       "    .colab-df-convert {\n",
       "      background-color: #E8F0FE;\n",
       "      border: none;\n",
       "      border-radius: 50%;\n",
       "      cursor: pointer;\n",
       "      display: none;\n",
       "      fill: #1967D2;\n",
       "      height: 32px;\n",
       "      padding: 0 0 0 0;\n",
       "      width: 32px;\n",
       "    }\n",
       "\n",
       "    .colab-df-convert:hover {\n",
       "      background-color: #E2EBFA;\n",
       "      box-shadow: 0px 1px 2px rgba(60, 64, 67, 0.3), 0px 1px 3px 1px rgba(60, 64, 67, 0.15);\n",
       "      fill: #174EA6;\n",
       "    }\n",
       "\n",
       "    [theme=dark] .colab-df-convert {\n",
       "      background-color: #3B4455;\n",
       "      fill: #D2E3FC;\n",
       "    }\n",
       "\n",
       "    [theme=dark] .colab-df-convert:hover {\n",
       "      background-color: #434B5C;\n",
       "      box-shadow: 0px 1px 3px 1px rgba(0, 0, 0, 0.15);\n",
       "      filter: drop-shadow(0px 1px 2px rgba(0, 0, 0, 0.3));\n",
       "      fill: #FFFFFF;\n",
       "    }\n",
       "  </style>\n",
       "\n",
       "      <script>\n",
       "        const buttonEl =\n",
       "          document.querySelector('#df-f1edf533-3198-4520-963f-37172d457ed1 button.colab-df-convert');\n",
       "        buttonEl.style.display =\n",
       "          google.colab.kernel.accessAllowed ? 'block' : 'none';\n",
       "\n",
       "        async function convertToInteractive(key) {\n",
       "          const element = document.querySelector('#df-f1edf533-3198-4520-963f-37172d457ed1');\n",
       "          const dataTable =\n",
       "            await google.colab.kernel.invokeFunction('convertToInteractive',\n",
       "                                                     [key], {});\n",
       "          if (!dataTable) return;\n",
       "\n",
       "          const docLinkHtml = 'Like what you see? Visit the ' +\n",
       "            '<a target=\"_blank\" href=https://colab.research.google.com/notebooks/data_table.ipynb>data table notebook</a>'\n",
       "            + ' to learn more about interactive tables.';\n",
       "          element.innerHTML = '';\n",
       "          dataTable['output_type'] = 'display_data';\n",
       "          await google.colab.output.renderOutput(dataTable, element);\n",
       "          const docLink = document.createElement('div');\n",
       "          docLink.innerHTML = docLinkHtml;\n",
       "          element.appendChild(docLink);\n",
       "        }\n",
       "      </script>\n",
       "    </div>\n",
       "  </div>\n",
       "  "
      ],
      "text/plain": [
       "        pc_1       pc_2\n",
       "0 -29.223455 -21.144792\n",
       "1  22.721981 -43.368325\n",
       "2 -30.800386 -19.748180\n",
       "3   5.876176  12.646024\n",
       "4   5.182351  14.062187"
      ]
     },
     "execution_count": 63,
     "metadata": {},
     "output_type": "execute_result"
    }
   ],
   "source": [
    "new_dim.head(5)"
   ]
  },
  {
   "cell_type": "markdown",
   "metadata": {
    "id": "0-aUW1sGdtj4"
   },
   "source": [
    "Ограничения:\n",
    " - Метод Якоби применим только к симметричным и квадратным матрицам"
   ]
  },
  {
   "cell_type": "markdown",
   "metadata": {
    "id": "jk7hmBiMd9AN"
   },
   "source": [
    "Задание 4. Определите достаточное число компонент для описания процесса, визуализируйте данные и проведите анализ полученных компонент."
   ]
  },
  {
   "cell_type": "code",
   "execution_count": null,
   "metadata": {
    "id": "mNPXfY21WtY2"
   },
   "outputs": [],
   "source": [
    "var = explained_variance(sorted(s, reverse = True))"
   ]
  },
  {
   "cell_type": "code",
   "execution_count": null,
   "metadata": {
    "colab": {
     "base_uri": "https://localhost:8080/"
    },
    "id": "1H4R1LDpX6AW",
    "outputId": "231b67ff-28f4-4c52-de90-2809e49b5995"
   },
   "outputs": [
    {
     "data": {
      "text/plain": [
       "[0.24710450058182656,\n",
       " 0.2090843051984583,\n",
       " 0.1988993289863991,\n",
       " 0.1406154235283831,\n",
       " 0.09697184631229218,\n",
       " 0.05571068487806881,\n",
       " 0.014445485165014961,\n",
       " 0.013594194803733237,\n",
       " 0.012909575619395387,\n",
       " 0.010664654926428405]"
      ]
     },
     "execution_count": 61,
     "metadata": {},
     "output_type": "execute_result"
    }
   ],
   "source": [
    "var"
   ]
  },
  {
   "cell_type": "code",
   "execution_count": null,
   "metadata": {
    "colab": {
     "base_uri": "https://localhost:8080/",
     "height": 313
    },
    "id": "ct9t5E0bW71n",
    "outputId": "07fcad07-5c31-4b4d-c9e9-e141f0f6c5ec"
   },
   "outputs": [
    {
     "data": {
      "text/plain": [
       "Text(0, 0.5, 'Variance')"
      ]
     },
     "execution_count": 62,
     "metadata": {},
     "output_type": "execute_result"
    },
    {
     "data": {
      "image/png": "[encoded data removed]",
      "text/plain": [
       "<Figure size 432x288 with 1 Axes>"
      ]
     },
     "metadata": {
      "needs_background": "light"
     },
     "output_type": "display_data"
    }
   ],
   "source": [
    "plt.plot(var, marker = 'o')\n",
    "plt.title('Explained variance')\n",
    "plt.xlabel('Index of a component')\n",
    "plt.ylabel('Variance')"
   ]
  },
  {
   "cell_type": "markdown",
   "metadata": {
    "id": "oDtsQ14vXwc3"
   },
   "source": [
    "Для описания 80% данных потребуется 4 компоненты"
   ]
  },
  {
   "cell_type": "code",
   "execution_count": null,
   "metadata": {
    "colab": {
     "base_uri": "https://localhost:8080/",
     "height": 298
    },
    "id": "MiSiain3VmkX",
    "outputId": "3f24c72b-7427-40ca-e3af-add38bd5272f"
   },
   "outputs": [
    {
     "data": {
      "text/plain": [
       "<matplotlib.axes._subplots.AxesSubplot at 0x7f76515eeed0>"
      ]
     },
     "execution_count": 58,
     "metadata": {},
     "output_type": "execute_result"
    },
    {
     "data": {
      "image/png": "[encoded data removed]",
      "text/plain": [
       "<Figure size 432x288 with 1 Axes>"
      ]
     },
     "metadata": {
      "needs_background": "light"
     },
     "output_type": "display_data"
    }
   ],
   "source": [
    "sns.scatterplot(data=new_dim, x=\"pc_1\", y=\"pc_2\")"
   ]
  },
  {
   "cell_type": "markdown",
   "metadata": {
    "id": "KC3orO7bYl89"
   },
   "source": [
    "После трансформации исходных данных, получили 6 четко разделимих кластеров"
   ]
  },
  {
   "cell_type": "markdown",
   "metadata": {
    "id": "F5Qb1XxKae1r"
   },
   "source": [
    "Сравним полученные результаты с PCA из sklearn"
   ]
  },
  {
   "cell_type": "code",
   "execution_count": null,
   "metadata": {
    "colab": {
     "base_uri": "https://localhost:8080/",
     "height": 542
    },
    "id": "zVxEn2Z6a5xX",
    "outputId": "368036bb-c7e9-473b-a9e3-0d5c052d70ec"
   },
   "outputs": [
    {
     "data": {
      "text/html": [
       "<html>\n",
       "<head><meta charset=\"utf-8\" /></head>\n",
       "<body>\n",
       "    <div>            <script src=\"https://cdnjs.cloudflare.com/ajax/libs/mathjax/2.7.5/MathJax.js?config=TeX-AMS-MML_SVG\"></script><script type=\"text/javascript\">if (window.MathJax) {MathJax.Hub.Config({SVG: {font: \"STIX-Web\"}});}</script>                <script type=\"text/javascript\">window.PlotlyConfig = {MathJaxConfig: 'local'};</script>\n",
       "        <script src=\"https://cdn.plot.ly/plotly-2.8.3.min.js\"></script>                <div id=\"07324f0a-da90-4927-aa7d-b14571a0a1f2\" class=\"plotly-graph-div\" style=\"height:525px; width:100%;\"></div>            <script type=\"text/javascript\">                                    window.PLOTLYENV=window.PLOTLYENV || {};                                    if (document.getElementById(\"07324f0a-da90-4927-aa7d-b14571a0a1f2\")) {                    Plotly.newPlot(                        \"07324f0a-da90-4927-aa7d-b14571a0a1f2\",                        [{\"hovertemplate\":\"0=%{x}<br>1=%{y}<extra></extra>\",\"legendgroup\":\"\",\"marker\":{\"color\":\"#636efa\",\"symbol\":\"circle\"},\"mode\":\"markers\",\"name\":\"\",\"orientation\":\"v\",\"showlegend\":false,\"x\":[40.974931908063276,-7.075558833628359,42.52010998622154,7.0521128744226145,7.830090255995683,-14.058986965067463,43.15402520632152,-41.53895775975054,40.14637871468871,6.417370280802539,-40.44854484903038,42.500151634578025,-7.736570606307271,-41.28310480544942,14.34068503571808,16.23086213694403,-19.48904407267932,8.472745980977072,-39.864115684136394,-44.81747543783505,-7.693091344974487,-9.402079168292165,39.29490796237441,8.723725131993522,-16.778131446474507,-44.10242399438357,-8.432332602044427,42.51479293298537,-40.085571094199466,-16.328173639595793,14.626237624433836,7.583283974690288,-8.687970413662944,-4.764460596515363,41.45957293867968,15.533366246864114,46.16164392122957,-18.588469835085952,16.336545496019845,-8.6395996925403,10.416106391286817,16.300730371011927,-44.47695548097966,7.947670179966267,7.480072255630359,-41.10833769048928,45.11666532072298,-17.78586909231871,-16.844105473786986,18.75036653348759,-41.39153333105414,14.795663732821502,-6.889693904717778,7.253543620209637,-14.56123323404912,-17.85653451123406,-7.911716399500056,17.821853739088773,15.645485794443776,-14.761056222890378],\"xaxis\":\"x\",\"y\":[-4.522083501227763,-36.43395301244716,-2.3491468508763953,37.42564201572066,39.78704127547895,-3.99334516190951,-0.6776180687275697,7.5508661230016285,-2.725127062409011,41.52588127133272,9.083806391000003,-2.7341829201256447,-38.26761024694131,11.149264722516346,-6.174501036475319,-5.095845029097095,-4.498397695296032,39.65416147179969,9.418211514518108,14.265478515989367,-34.675036566668254,-37.47788236950591,-4.42334838204752,39.80401217356012,-2.9468602207961343,11.64313557709782,-35.66495527408153,-3.4418542093112454,8.817002387552485,-5.799148883997913,-5.890795979945507,42.00903389141826,-36.95245679623193,-38.502318289371644,-3.8715764650287383,-5.16514583385644,-2.454070061412202,-4.515902133316033,-3.3085391780237026,-36.655276226885206,39.0599463858917,-5.082434370042452,14.117317112520235,37.37827171878722,40.17592586771445,10.87193170701826,-5.868326527120427,-3.2313347413153077,-5.593797136409082,-6.887789704706553,9.846944568121502,-3.617325769738857,-36.19113258995904,38.3953213303273,-5.816070244873943,-4.735362914492205,-39.45251310168551,-5.096865391111742,-6.208891208546992,-4.980374865351877],\"yaxis\":\"y\",\"type\":\"scatter\"}],                        {\"template\":{\"data\":{\"bar\":[{\"error_x\":{\"color\":\"#2a3f5f\"},\"error_y\":{\"color\":\"#2a3f5f\"},\"marker\":{\"line\":{\"color\":\"#E5ECF6\",\"width\":0.5},\"pattern\":{\"fillmode\":\"overlay\",\"size\":10,\"solidity\":0.2}},\"type\":\"bar\"}],\"barpolar\":[{\"marker\":{\"line\":{\"color\":\"#E5ECF6\",\"width\":0.5},\"pattern\":{\"fillmode\":\"overlay\",\"size\":10,\"solidity\":0.2}},\"type\":\"barpolar\"}],\"carpet\":[{\"aaxis\":{\"endlinecolor\":\"#2a3f5f\",\"gridcolor\":\"white\",\"linecolor\":\"white\",\"minorgridcolor\":\"white\",\"startlinecolor\":\"#2a3f5f\"},\"baxis\":{\"endlinecolor\":\"#2a3f5f\",\"gridcolor\":\"white\",\"linecolor\":\"white\",\"minorgridcolor\":\"white\",\"startlinecolor\":\"#2a3f5f\"},\"type\":\"carpet\"}],\"choropleth\":[{\"colorbar\":{\"outlinewidth\":0,\"ticks\":\"\"},\"type\":\"choropleth\"}],\"contour\":[{\"colorbar\":{\"outlinewidth\":0,\"ticks\":\"\"},\"colorscale\":[[0.0,\"#0d0887\"],[0.1111111111111111,\"#46039f\"],[0.2222222222222222,\"#7201a8\"],[0.3333333333333333,\"#9c179e\"],[0.4444444444444444,\"#bd3786\"],[0.5555555555555556,\"#d8576b\"],[0.6666666666666666,\"#ed7953\"],[0.7777777777777778,\"#fb9f3a\"],[0.8888888888888888,\"#fdca26\"],[1.0,\"#f0f921\"]],\"type\":\"contour\"}],\"contourcarpet\":[{\"colorbar\":{\"outlinewidth\":0,\"ticks\":\"\"},\"type\":\"contourcarpet\"}],\"heatmap\":[{\"colorbar\":{\"outlinewidth\":0,\"ticks\":\"\"},\"colorscale\":[[0.0,\"#0d0887\"],[0.1111111111111111,\"#46039f\"],[0.2222222222222222,\"#7201a8\"],[0.3333333333333333,\"#9c179e\"],[0.4444444444444444,\"#bd3786\"],[0.5555555555555556,\"#d8576b\"],[0.6666666666666666,\"#ed7953\"],[0.7777777777777778,\"#fb9f3a\"],[0.8888888888888888,\"#fdca26\"],[1.0,\"#f0f921\"]],\"type\":\"heatmap\"}],\"heatmapgl\":[{\"colorbar\":{\"outlinewidth\":0,\"ticks\":\"\"},\"colorscale\":[[0.0,\"#0d0887\"],[0.1111111111111111,\"#46039f\"],[0.2222222222222222,\"#7201a8\"],[0.3333333333333333,\"#9c179e\"],[0.4444444444444444,\"#bd3786\"],[0.5555555555555556,\"#d8576b\"],[0.6666666666666666,\"#ed7953\"],[0.7777777777777778,\"#fb9f3a\"],[0.8888888888888888,\"#fdca26\"],[1.0,\"#f0f921\"]],\"type\":\"heatmapgl\"}],\"histogram\":[{\"marker\":{\"pattern\":{\"fillmode\":\"overlay\",\"size\":10,\"solidity\":0.2}},\"type\":\"histogram\"}],\"histogram2d\":[{\"colorbar\":{\"outlinewidth\":0,\"ticks\":\"\"},\"colorscale\":[[0.0,\"#0d0887\"],[0.1111111111111111,\"#46039f\"],[0.2222222222222222,\"#7201a8\"],[0.3333333333333333,\"#9c179e\"],[0.4444444444444444,\"#bd3786\"],[0.5555555555555556,\"#d8576b\"],[0.6666666666666666,\"#ed7953\"],[0.7777777777777778,\"#fb9f3a\"],[0.8888888888888888,\"#fdca26\"],[1.0,\"#f0f921\"]],\"type\":\"histogram2d\"}],\"histogram2dcontour\":[{\"colorbar\":{\"outlinewidth\":0,\"ticks\":\"\"},\"colorscale\":[[0.0,\"#0d0887\"],[0.1111111111111111,\"#46039f\"],[0.2222222222222222,\"#7201a8\"],[0.3333333333333333,\"#9c179e\"],[0.4444444444444444,\"#bd3786\"],[0.5555555555555556,\"#d8576b\"],[0.6666666666666666,\"#ed7953\"],[0.7777777777777778,\"#fb9f3a\"],[0.8888888888888888,\"#fdca26\"],[1.0,\"#f0f921\"]],\"type\":\"histogram2dcontour\"}],\"mesh3d\":[{\"colorbar\":{\"outlinewidth\":0,\"ticks\":\"\"},\"type\":\"mesh3d\"}],\"parcoords\":[{\"line\":{\"colorbar\":{\"outlinewidth\":0,\"ticks\":\"\"}},\"type\":\"parcoords\"}],\"pie\":[{\"automargin\":true,\"type\":\"pie\"}],\"scatter\":[{\"marker\":{\"colorbar\":{\"outlinewidth\":0,\"ticks\":\"\"}},\"type\":\"scatter\"}],\"scatter3d\":[{\"line\":{\"colorbar\":{\"outlinewidth\":0,\"ticks\":\"\"}},\"marker\":{\"colorbar\":{\"outlinewidth\":0,\"ticks\":\"\"}},\"type\":\"scatter3d\"}],\"scattercarpet\":[{\"marker\":{\"colorbar\":{\"outlinewidth\":0,\"ticks\":\"\"}},\"type\":\"scattercarpet\"}],\"scattergeo\":[{\"marker\":{\"colorbar\":{\"outlinewidth\":0,\"ticks\":\"\"}},\"type\":\"scattergeo\"}],\"scattergl\":[{\"marker\":{\"colorbar\":{\"outlinewidth\":0,\"ticks\":\"\"}},\"type\":\"scattergl\"}],\"scattermapbox\":[{\"marker\":{\"colorbar\":{\"outlinewidth\":0,\"ticks\":\"\"}},\"type\":\"scattermapbox\"}],\"scatterpolar\":[{\"marker\":{\"colorbar\":{\"outlinewidth\":0,\"ticks\":\"\"}},\"type\":\"scatterpolar\"}],\"scatterpolargl\":[{\"marker\":{\"colorbar\":{\"outlinewidth\":0,\"ticks\":\"\"}},\"type\":\"scatterpolargl\"}],\"scatterternary\":[{\"marker\":{\"colorbar\":{\"outlinewidth\":0,\"ticks\":\"\"}},\"type\":\"scatterternary\"}],\"surface\":[{\"colorbar\":{\"outlinewidth\":0,\"ticks\":\"\"},\"colorscale\":[[0.0,\"#0d0887\"],[0.1111111111111111,\"#46039f\"],[0.2222222222222222,\"#7201a8\"],[0.3333333333333333,\"#9c179e\"],[0.4444444444444444,\"#bd3786\"],[0.5555555555555556,\"#d8576b\"],[0.6666666666666666,\"#ed7953\"],[0.7777777777777778,\"#fb9f3a\"],[0.8888888888888888,\"#fdca26\"],[1.0,\"#f0f921\"]],\"type\":\"surface\"}],\"table\":[{\"cells\":{\"fill\":{\"color\":\"#EBF0F8\"},\"line\":{\"color\":\"white\"}},\"header\":{\"fill\":{\"color\":\"#C8D4E3\"},\"line\":{\"color\":\"white\"}},\"type\":\"table\"}]},\"layout\":{\"annotationdefaults\":{\"arrowcolor\":\"#2a3f5f\",\"arrowhead\":0,\"arrowwidth\":1},\"autotypenumbers\":\"strict\",\"coloraxis\":{\"colorbar\":{\"outlinewidth\":0,\"ticks\":\"\"}},\"colorscale\":{\"diverging\":[[0,\"#8e0152\"],[0.1,\"#c51b7d\"],[0.2,\"#de77ae\"],[0.3,\"#f1b6da\"],[0.4,\"#fde0ef\"],[0.5,\"#f7f7f7\"],[0.6,\"#e6f5d0\"],[0.7,\"#b8e186\"],[0.8,\"#7fbc41\"],[0.9,\"#4d9221\"],[1,\"#276419\"]],\"sequential\":[[0.0,\"#0d0887\"],[0.1111111111111111,\"#46039f\"],[0.2222222222222222,\"#7201a8\"],[0.3333333333333333,\"#9c179e\"],[0.4444444444444444,\"#bd3786\"],[0.5555555555555556,\"#d8576b\"],[0.6666666666666666,\"#ed7953\"],[0.7777777777777778,\"#fb9f3a\"],[0.8888888888888888,\"#fdca26\"],[1.0,\"#f0f921\"]],\"sequentialminus\":[[0.0,\"#0d0887\"],[0.1111111111111111,\"#46039f\"],[0.2222222222222222,\"#7201a8\"],[0.3333333333333333,\"#9c179e\"],[0.4444444444444444,\"#bd3786\"],[0.5555555555555556,\"#d8576b\"],[0.6666666666666666,\"#ed7953\"],[0.7777777777777778,\"#fb9f3a\"],[0.8888888888888888,\"#fdca26\"],[1.0,\"#f0f921\"]]},\"colorway\":[\"#636efa\",\"#EF553B\",\"#00cc96\",\"#ab63fa\",\"#FFA15A\",\"#19d3f3\",\"#FF6692\",\"#B6E880\",\"#FF97FF\",\"#FECB52\"],\"font\":{\"color\":\"#2a3f5f\"},\"geo\":{\"bgcolor\":\"white\",\"lakecolor\":\"white\",\"landcolor\":\"#E5ECF6\",\"showlakes\":true,\"showland\":true,\"subunitcolor\":\"white\"},\"hoverlabel\":{\"align\":\"left\"},\"hovermode\":\"closest\",\"mapbox\":{\"style\":\"light\"},\"paper_bgcolor\":\"white\",\"plot_bgcolor\":\"#E5ECF6\",\"polar\":{\"angularaxis\":{\"gridcolor\":\"white\",\"linecolor\":\"white\",\"ticks\":\"\"},\"bgcolor\":\"#E5ECF6\",\"radialaxis\":{\"gridcolor\":\"white\",\"linecolor\":\"white\",\"ticks\":\"\"}},\"scene\":{\"xaxis\":{\"backgroundcolor\":\"#E5ECF6\",\"gridcolor\":\"white\",\"gridwidth\":2,\"linecolor\":\"white\",\"showbackground\":true,\"ticks\":\"\",\"zerolinecolor\":\"white\"},\"yaxis\":{\"backgroundcolor\":\"#E5ECF6\",\"gridcolor\":\"white\",\"gridwidth\":2,\"linecolor\":\"white\",\"showbackground\":true,\"ticks\":\"\",\"zerolinecolor\":\"white\"},\"zaxis\":{\"backgroundcolor\":\"#E5ECF6\",\"gridcolor\":\"white\",\"gridwidth\":2,\"linecolor\":\"white\",\"showbackground\":true,\"ticks\":\"\",\"zerolinecolor\":\"white\"}},\"shapedefaults\":{\"line\":{\"color\":\"#2a3f5f\"}},\"ternary\":{\"aaxis\":{\"gridcolor\":\"white\",\"linecolor\":\"white\",\"ticks\":\"\"},\"baxis\":{\"gridcolor\":\"white\",\"linecolor\":\"white\",\"ticks\":\"\"},\"bgcolor\":\"#E5ECF6\",\"caxis\":{\"gridcolor\":\"white\",\"linecolor\":\"white\",\"ticks\":\"\"}},\"title\":{\"x\":0.05},\"xaxis\":{\"automargin\":true,\"gridcolor\":\"white\",\"linecolor\":\"white\",\"ticks\":\"\",\"title\":{\"standoff\":15},\"zerolinecolor\":\"white\",\"zerolinewidth\":2},\"yaxis\":{\"automargin\":true,\"gridcolor\":\"white\",\"linecolor\":\"white\",\"ticks\":\"\",\"title\":{\"standoff\":15},\"zerolinecolor\":\"white\",\"zerolinewidth\":2}}},\"xaxis\":{\"anchor\":\"y\",\"domain\":[0.0,1.0],\"title\":{\"text\":\"0\"}},\"yaxis\":{\"anchor\":\"x\",\"domain\":[0.0,1.0],\"title\":{\"text\":\"1\"}},\"legend\":{\"tracegroupgap\":0},\"margin\":{\"t\":60}},                        {\"responsive\": true}                    ).then(function(){\n",
       "                            \n",
       "var gd = document.getElementById('07324f0a-da90-4927-aa7d-b14571a0a1f2');\n",
       "var x = new MutationObserver(function (mutations, observer) {{\n",
       "        var display = window.getComputedStyle(gd).display;\n",
       "        if (!display || display === 'none') {{\n",
       "            console.log([gd, 'removed!']);\n",
       "            Plotly.purge(gd);\n",
       "            observer.disconnect();\n",
       "        }}\n",
       "}});\n",
       "\n",
       "// Listen for the removal of the full notebook cells\n",
       "var notebookContainer = gd.closest('#notebook-container');\n",
       "if (notebookContainer) {{\n",
       "    x.observe(notebookContainer, {childList: true});\n",
       "}}\n",
       "\n",
       "// Listen for the clearing of the current output cell\n",
       "var outputEl = gd.closest('.output');\n",
       "if (outputEl) {{\n",
       "    x.observe(outputEl, {childList: true});\n",
       "}}\n",
       "\n",
       "                        })                };                            </script>        </div>\n",
       "</body>\n",
       "</html>"
      ]
     },
     "metadata": {},
     "output_type": "display_data"
    }
   ],
   "source": [
    "import plotly.express as px\n",
    "from sklearn.decomposition import PCA\n",
    "\n",
    "pca = PCA(n_components=2, svd_solver='full')\n",
    "components = pca.fit_transform(data)\n",
    "\n",
    "fig = px.scatter(components, x=0, y=1)\n",
    "fig.show()"
   ]
  },
  {
   "cell_type": "code",
   "execution_count": null,
   "metadata": {
    "colab": {
     "base_uri": "https://localhost:8080/"
    },
    "id": "ARmQNRLAad4v",
    "outputId": "3889fc75-ebe8-4025-9538-ca4d2639ec8e"
   },
   "outputs": [
    {
     "data": {
      "text/plain": [
       "array([205.57240797, 176.60791929])"
      ]
     },
     "execution_count": 67,
     "metadata": {},
     "output_type": "execute_result"
    }
   ],
   "source": [
    "pca.singular_values_"
   ]
  },
  {
   "cell_type": "code",
   "execution_count": null,
   "metadata": {
    "colab": {
     "base_uri": "https://localhost:8080/"
    },
    "id": "dE6jFndpa2qI",
    "outputId": "d0c511dd-7584-46c7-b386-a2ed9e2aca73"
   },
   "outputs": [
    {
     "data": {
      "text/plain": [
       "array([[ 0.16432134,  0.29390163, -0.38855345,  0.27562025, -0.350775  ,\n",
       "         0.25804902,  0.1294067 ,  0.466406  ,  0.46416618, -0.14253681],\n",
       "       [-0.39477179, -0.25543029,  0.52474445,  0.04952985,  0.07561264,\n",
       "         0.05632662,  0.40118906,  0.21188902,  0.27064683, -0.46163988]])"
      ]
     },
     "execution_count": 68,
     "metadata": {},
     "output_type": "execute_result"
    }
   ],
   "source": [
    "pca.components_"
   ]
  },
  {
   "cell_type": "markdown",
   "metadata": {
    "id": "7hOOJ7Uvbg91"
   },
   "source": [
    "Готовый PCA также разделил данные на 6 кластеров. Сингулярные числа и вектора примерно похожи на те, которые были получены выше."
   ]
  }
 ],
 "metadata": {
  "colab": {
   "provenance": []
  },
  "kernelspec": {
   "display_name": "Python 3 (ipykernel)",
   "language": "python",
   "name": "python3"
  },
  "language_info": {
   "codemirror_mode": {
    "name": "ipython",
    "version": 3
   },
   "file_extension": ".py",
   "mimetype": "text/x-python",
   "name": "python",
   "nbconvert_exporter": "python",
   "pygments_lexer": "ipython3",
   "version": "3.9.7"
  }
 },
 "nbformat": 4,
 "nbformat_minor": 1
}
